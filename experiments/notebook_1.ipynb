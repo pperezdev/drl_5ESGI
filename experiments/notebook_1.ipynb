{
 "cells": [
  {
   "cell_type": "code",
   "execution_count": null,
   "metadata": {},
   "outputs": [],
   "source": [
    "import sys\n",
    "import time\n",
    "\n",
    "sys.path.append('..')\n",
    "\n",
    "from back import facades\n",
    "from ai import q_learning"
   ]
  },
  {
   "cell_type": "code",
   "execution_count": null,
   "metadata": {},
   "outputs": [],
   "source": [
    "game = facades.line_world_1x5()\n",
    "ql = q_learning.QLearning()\n",
    "\n",
    "alpha = 0.1 # taux d'apprentissage\n",
    "gamma = 0.9 # facteur de réduction\n",
    "epsilon = 0.1 # taux d'exploration\n",
    "max_iterations = 1000 # nombre maximum d'itérations\n",
    "epochs = 50\n",
    "\n",
    "game.run(visible=False, asynchrone=True)\n",
    "ql.train(game=game, alpha=alpha, gamma=gamma, epsilon=epsilon, max_iterations=max_iterations, epochs=epochs)"
   ]
  }
 ],
 "metadata": {
  "language_info": {
   "name": "python"
  },
  "orig_nbformat": 4
 },
 "nbformat": 4,
 "nbformat_minor": 2
}
