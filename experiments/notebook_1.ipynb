{
 "cells": [
  {
   "cell_type": "code",
   "execution_count": 1,
   "metadata": {},
   "outputs": [
    {
     "name": "stdout",
     "output_type": "stream",
     "text": [
      "pygame 2.1.2 (SDL 2.0.18, Python 3.10.2)\n",
      "Hello from the pygame community. https://www.pygame.org/contribute.html\n"
     ]
    }
   ],
   "source": [
    "import sys\n",
    "import time\n",
    "\n",
    "sys.path.append('..')\n",
    "\n",
    "from back import facades, QLearning, ModelQLearning"
   ]
  },
  {
   "cell_type": "code",
   "execution_count": 2,
   "metadata": {},
   "outputs": [
    {
     "name": "stderr",
     "output_type": "stream",
     "text": [
      "  0%|          | 0/200 [00:00<?, ?it/s]\n"
     ]
    },
    {
     "name": "stdout",
     "output_type": "stream",
     "text": [
      "'int' object does not support item assignment\n"
     ]
    },
    {
     "ename": "AttributeError",
     "evalue": "'NoneType' object has no attribute 'save'",
     "output_type": "error",
     "traceback": [
      "\u001b[1;31m---------------------------------------------------------------------------\u001b[0m",
      "\u001b[1;31mAttributeError\u001b[0m                            Traceback (most recent call last)",
      "\u001b[1;32md:\\projet\\ESGI\\5ESGI\\DRL\\drl_5ESGI\\experiments\\notebook_1.ipynb Cell 2\u001b[0m in \u001b[0;36m<module>\u001b[1;34m\u001b[0m\n\u001b[0;32m      <a href='vscode-notebook-cell:/d%3A/projet/ESGI/5ESGI/DRL/drl_5ESGI/experiments/notebook_1.ipynb#W1sZmlsZQ%3D%3D?line=8'>9</a>\u001b[0m epochs \u001b[39m=\u001b[39m \u001b[39m200\u001b[39m\n\u001b[0;32m     <a href='vscode-notebook-cell:/d%3A/projet/ESGI/5ESGI/DRL/drl_5ESGI/experiments/notebook_1.ipynb#W1sZmlsZQ%3D%3D?line=10'>11</a>\u001b[0m model \u001b[39m=\u001b[39m ql\u001b[39m.\u001b[39mtrain(game, alpha\u001b[39m=\u001b[39malpha, gamma\u001b[39m=\u001b[39mgamma, epsilon\u001b[39m=\u001b[39mepsilon, max_iterations\u001b[39m=\u001b[39mmax_iterations, epochs\u001b[39m=\u001b[39mepochs, debug\u001b[39m=\u001b[39m\u001b[39mTrue\u001b[39;00m)\n\u001b[1;32m---> <a href='vscode-notebook-cell:/d%3A/projet/ESGI/5ESGI/DRL/drl_5ESGI/experiments/notebook_1.ipynb#W1sZmlsZQ%3D%3D?line=11'>12</a>\u001b[0m model\u001b[39m.\u001b[39;49msave()\n",
      "\u001b[1;31mAttributeError\u001b[0m: 'NoneType' object has no attribute 'save'"
     ]
    }
   ],
   "source": [
    "game = facades.grid_world_5x5()\n",
    "\n",
    "ql = QLearning()\n",
    "\n",
    "alpha = 0.01 # taux d'apprentissage\n",
    "gamma = 0.9 # facteur de réduction\n",
    "epsilon = 0.1 # taux d'exploration\n",
    "max_iterations = 1000 # nombre maximum d'itérations\n",
    "epochs = 200\n",
    "\n",
    "model = ql.train(game, alpha=alpha, gamma=gamma, epsilon=epsilon, max_iterations=max_iterations, epochs=epochs, debug=True)\n",
    "model.save()"
   ]
  },
  {
   "cell_type": "code",
   "execution_count": null,
   "metadata": {},
   "outputs": [],
   "source": []
  }
 ],
 "metadata": {
  "kernelspec": {
   "display_name": "Python 3",
   "language": "python",
   "name": "python3"
  },
  "language_info": {
   "codemirror_mode": {
    "name": "ipython",
    "version": 3
   },
   "file_extension": ".py",
   "mimetype": "text/x-python",
   "name": "python",
   "nbconvert_exporter": "python",
   "pygments_lexer": "ipython3",
   "version": "3.10.2"
  },
  "orig_nbformat": 4,
  "vscode": {
   "interpreter": {
    "hash": "617651be652dba6117a785322ae6392f2f51e95d63fc873ab58be47aa59bfc7c"
   }
  }
 },
 "nbformat": 4,
 "nbformat_minor": 2
}
