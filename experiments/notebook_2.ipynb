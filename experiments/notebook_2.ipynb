{
 "cells": [
  {
   "cell_type": "code",
   "execution_count": 4,
   "metadata": {},
   "outputs": [],
   "source": [
    "import sys\n",
    "import time\n",
    "\n",
    "sys.path.append('..')\n",
    "\n",
    "from back import facades, DeepQLearning"
   ]
  },
  {
   "cell_type": "code",
   "execution_count": 5,
   "metadata": {},
   "outputs": [],
   "source": [
    "game = facades.grid_world_5x5()\n",
    "\n",
    "ql = DeepQLearning()\n",
    "\n",
    "gamma = 0.99\n",
    "epsilon = 0.01\n",
    "learning_rate = 0.001\n",
    "max_iterations = 1000\n",
    "epochs = 20"
   ]
  }
 ],
 "metadata": {
  "kernelspec": {
   "display_name": "drl",
   "language": "python",
   "name": "python3"
  },
  "language_info": {
   "codemirror_mode": {
    "name": "ipython",
    "version": 3
   },
   "file_extension": ".py",
   "mimetype": "text/x-python",
   "name": "python",
   "nbconvert_exporter": "python",
   "pygments_lexer": "ipython3",
   "version": "3.9.16"
  },
  "orig_nbformat": 4,
  "vscode": {
   "interpreter": {
    "hash": "35e8349260aca89ae596254ed680e7b0752bfdd47c64440be517dc1fda32bd0b"
   }
  }
 },
 "nbformat": 4,
 "nbformat_minor": 2
}
