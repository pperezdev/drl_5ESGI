{
 "cells": [
  {
   "cell_type": "code",
   "execution_count": 1,
   "metadata": {},
   "outputs": [
    {
     "name": "stdout",
     "output_type": "stream",
     "text": [
      "pygame 2.1.2 (SDL 2.0.18, Python 3.9.16)\n",
      "Hello from the pygame community. https://www.pygame.org/contribute.html\n"
     ]
    },
    {
     "ename": "SyntaxError",
     "evalue": "invalid syntax (vector2.py, line 8)",
     "output_type": "error",
     "traceback": [
      "Traceback \u001b[1;36m(most recent call last)\u001b[0m:\n",
      "\u001b[0m  File \u001b[0;32mc:\\Users\\Antoine\\anaconda3\\envs\\drl\\lib\\site-packages\\IPython\\core\\interactiveshell.py:3442\u001b[0m in \u001b[0;35mrun_code\u001b[0m\n    exec(code_obj, self.user_global_ns, self.user_ns)\u001b[0m\n",
      "\u001b[0m  Cell \u001b[0;32mIn[1], line 6\u001b[0m\n    from back import facades, DoubleDeepQLearning\u001b[0m\n",
      "\u001b[0m  File \u001b[0;32mc:\\Users\\Antoine\\Desktop\\drl_5ESGI\\experiments\\..\\back\\__init__.py:1\u001b[0m\n    from .facades import *\u001b[0m\n",
      "\u001b[0m  File \u001b[0;32mc:\\Users\\Antoine\\Desktop\\drl_5ESGI\\experiments\\..\\back\\facades\\__init__.py:2\u001b[0m\n    from .game_facade import pacman, line_world_1x5, grid_world_5x5\u001b[0m\n",
      "\u001b[0m  File \u001b[0;32mc:\\Users\\Antoine\\Desktop\\drl_5ESGI\\experiments\\..\\back\\facades\\game_facade.py:1\u001b[0m\n    from ..factories import *\u001b[0m\n",
      "\u001b[0m  File \u001b[0;32mc:\\Users\\Antoine\\Desktop\\drl_5ESGI\\experiments\\..\\back\\factories\\__init__.py:1\u001b[0m\n    from .agent_factory import *\u001b[0m\n",
      "\u001b[0m  File \u001b[0;32mc:\\Users\\Antoine\\Desktop\\drl_5ESGI\\experiments\\..\\back\\factories\\agent_factory.py:1\u001b[0m\n    from ..agents import Agent, AgentPacman\u001b[0m\n",
      "\u001b[0m  File \u001b[0;32mc:\\Users\\Antoine\\Desktop\\drl_5ESGI\\experiments\\..\\back\\agents\\__init__.py:1\u001b[0m\n    from .agent import Agent\u001b[0m\n",
      "\u001b[1;36m  File \u001b[1;32mc:\\Users\\Antoine\\Desktop\\drl_5ESGI\\experiments\\..\\back\\agents\\agent.py:4\u001b[1;36m\n\u001b[1;33m    from ..vector2 import Vector2\u001b[1;36m\n",
      "\u001b[1;36m  File \u001b[1;32mc:\\Users\\Antoine\\Desktop\\drl_5ESGI\\experiments\\..\\back\\vector2.py:8\u001b[1;36m\u001b[0m\n\u001b[1;33m    <<<<<<< HEAD\u001b[0m\n\u001b[1;37m    ^\u001b[0m\n\u001b[1;31mSyntaxError\u001b[0m\u001b[1;31m:\u001b[0m invalid syntax\n"
     ]
    }
   ],
   "source": [
    "import sys\n",
    "import time\n",
    "\n",
    "sys.path.append('..')\n",
    "\n",
    "from back import facades, DoubleDeepQLearning"
   ]
  },
  {
   "cell_type": "code",
   "execution_count": 17,
   "metadata": {},
   "outputs": [
    {
     "name": "stderr",
     "output_type": "stream",
     "text": [
      "c:\\Users\\Antoine\\anaconda3\\envs\\drl\\lib\\site-packages\\keras\\optimizers\\optimizer_v2\\adam.py:114: UserWarning: The `lr` argument is deprecated, use `learning_rate` instead.\n",
      "  super().__init__(name, **kwargs)\n",
      "  0%|          | 0/20 [00:00<?, ?it/s]"
     ]
    },
    {
     "name": "stdout",
     "output_type": "stream",
     "text": [
      "1/1 [==============================] - 0s 274ms/step\n",
      "1/1 [==============================] - 0s 130ms/step\n"
     ]
    },
    {
     "name": "stderr",
     "output_type": "stream",
     "text": [
      "  0%|          | 0/20 [00:02<?, ?it/s]\n"
     ]
    },
    {
     "ename": "TypeError",
     "evalue": "unsupported operand type(s) for -: 'float' and 'Sequential'",
     "output_type": "error",
     "traceback": [
      "\u001b[1;31m---------------------------------------------------------------------------\u001b[0m",
      "\u001b[1;31mTypeError\u001b[0m                                 Traceback (most recent call last)",
      "Cell \u001b[1;32mIn[17], line 13\u001b[0m\n\u001b[0;32m     10\u001b[0m max_iterations \u001b[39m=\u001b[39m \u001b[39m1000\u001b[39m\n\u001b[0;32m     11\u001b[0m epochs \u001b[39m=\u001b[39m \u001b[39m20\u001b[39m\n\u001b[1;32m---> 13\u001b[0m model \u001b[39m=\u001b[39m ql\u001b[39m.\u001b[39;49mtrain(game, alpha\u001b[39m=\u001b[39;49malpha, gamma\u001b[39m=\u001b[39;49mgamma, epsilon\u001b[39m=\u001b[39;49mepsilon, learning_rate\u001b[39m=\u001b[39;49mlearning_rate, max_iterations\u001b[39m=\u001b[39;49mmax_iterations, epochs\u001b[39m=\u001b[39;49mepochs, debug\u001b[39m=\u001b[39;49m\u001b[39mTrue\u001b[39;49;00m)\n\u001b[0;32m     14\u001b[0m model\u001b[39m.\u001b[39msave()\n",
      "File \u001b[1;32mc:\\Users\\Antoine\\Desktop\\drl_5ESGI\\experiments\\..\\back\\ai\\double_q_learning.py:80\u001b[0m, in \u001b[0;36mDoubleDeepQLearning.train\u001b[1;34m(self, game, gamma, alpha, epsilon, learning_rate, max_iterations, epochs, visible, debug)\u001b[0m\n\u001b[0;32m     76\u001b[0m target_f[0][optimal_action] = target\n\u001b[0;32m     77\u001b[0m Q_tnet.fit(state, target_f, epochs=1, verbose=0)\n\u001b[0;32m     79\u001b[0m # with tf.GradientTape() as tape:\n\u001b[1;32m---> 80\u001b[0m #     loss = tf.reduce_mean((target - Q_qnet) ** 2)\n\u001b[0;32m     81\u001b[0m \n\u001b[0;32m     82\u001b[0m # grads = tape.gradient(loss, Q_qnet.trainable_variables)\n\u001b[0;32m     83\u001b[0m # optimizer.apply_gradients(zip(grads, Q_tnet.trainable_variables))\n\u001b[0;32m     85\u001b[0m state = next_state\n\u001b[0;32m     86\u001b[0m if status == \"victory\" or status == \"defeat\":\n",
      "\u001b[1;31mTypeError\u001b[0m: unsupported operand type(s) for -: 'float' and 'Sequential'"
     ]
    }
   ],
   "source": [
    "game = facades.grid_world_5x5()\n",
    "\n",
    "# ql = DoubleDeepQLearning()\n",
    "ql = DoubleDeepQLearning()\n",
    "\n",
    "gamma = 0.99\n",
    "epsilon = 0.01\n",
    "alpha = 0.1\n",
    "learning_rate = 0.001\n",
    "max_iterations = 1000\n",
    "epochs = 20\n",
    "\n",
    "model = ql.train(game, alpha=alpha, gamma=gamma, epsilon=epsilon, learning_rate=learning_rate, max_iterations=max_iterations, epochs=epochs, debug=True)\n",
    "model.save()\n"
   ]
  }
 ],
 "metadata": {
  "kernelspec": {
   "display_name": "drl",
   "language": "python",
   "name": "python3"
  },
  "language_info": {
   "codemirror_mode": {
    "name": "ipython",
    "version": 3
   },
   "file_extension": ".py",
   "mimetype": "text/x-python",
   "name": "python",
   "nbconvert_exporter": "python",
   "pygments_lexer": "ipython3",
   "version": "3.9.16"
  },
  "orig_nbformat": 4,
  "vscode": {
   "interpreter": {
    "hash": "35e8349260aca89ae596254ed680e7b0752bfdd47c64440be517dc1fda32bd0b"
   }
  }
 },
 "nbformat": 4,
 "nbformat_minor": 2
}
